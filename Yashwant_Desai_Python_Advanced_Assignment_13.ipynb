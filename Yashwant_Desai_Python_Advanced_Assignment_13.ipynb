{
 "cells": [
  {
   "cell_type": "markdown",
   "id": "0c27a818",
   "metadata": {},
   "source": [
    "# Yashwant Desai –  Python_Advanced_Assignment_13"
   ]
  },
  {
   "cell_type": "markdown",
   "id": "d5072144",
   "metadata": {},
   "source": [
    "# Q1. Can you create a programme or function that employs both positive and negative indexing? Is there any repercussion if you do so?"
   ]
  },
  {
   "cell_type": "markdown",
   "id": "1e012da2",
   "metadata": {},
   "source": [
    "Yes we can create a programme or function that employs both positive and negative indexing.Positive indexing start from 0 for first element and negative indexing starts from -1 for the last element and goes backward.Below is an example."
   ]
  },
  {
   "cell_type": "code",
   "execution_count": 1,
   "id": "de93ebd2",
   "metadata": {},
   "outputs": [
    {
     "name": "stdout",
     "output_type": "stream",
     "text": [
      "Positive index - fruit at 0 : apple\n",
      "Positive index - fruit at 1 : banana\n",
      "Positive index - fruit at 2 : cherry\n",
      "Positive index - fruit at 3 : mango\n",
      "---------------------------------\n",
      "Negative index fruit at index -1 : mango\n",
      "Negative index fruit at index -2 : cherry\n",
      "Negative index fruit at index -3 : banana\n",
      "Negative index fruit at index -4 : apple\n"
     ]
    }
   ],
   "source": [
    "# Create a list of fruits\n",
    "fruits = [\"apple\", \"banana\", \"cherry\", \"mango\"]\n",
    "\n",
    "# Determine the length of the list\n",
    "list_length = len(fruits)\n",
    "\n",
    "# Iterate through the list using positve indexing\n",
    "for i in range(0, list_length ):\n",
    "    print(\"Positive index - fruit at\", i, \":\", fruits[i])\n",
    "    \n",
    "print(\"---------------------------------\")\n",
    "\n",
    "# Iterate through the list using negative indexing\n",
    "for i in range(-1, -list_length - 1, -1):\n",
    "    print(\"Negative index fruit at index\", i, \":\", fruits[i])\n"
   ]
  },
  {
   "cell_type": "markdown",
   "id": "9dfef00f",
   "metadata": {},
   "source": [
    "# Q2. What is the most effective way of starting with 1,000 elements in a Python list? Assume that all elements should be set to the same value."
   ]
  },
  {
   "cell_type": "markdown",
   "id": "093351bb",
   "metadata": {},
   "source": [
    "The most effective way of starting with 1000 elements in a python list is to use list mutiplication with a single value."
   ]
  },
  {
   "cell_type": "code",
   "execution_count": 2,
   "id": "95297eab",
   "metadata": {},
   "outputs": [],
   "source": [
    "value = 88\n",
    "my_value = [value]*1000\n",
    "#print(my_value)"
   ]
  },
  {
   "cell_type": "markdown",
   "id": "feb415b4",
   "metadata": {},
   "source": [
    "# Q3. How do you slice a list to get any other part while missing the rest? (For example, suppose you want to make a new list with the elements first, third, fifth, seventh, and so on.)"
   ]
  },
  {
   "cell_type": "markdown",
   "id": "f470f63c",
   "metadata": {},
   "source": [
    "Yes we can slice a list with a step of 2 i.e. list[::2]\n",
    "below is an example"
   ]
  },
  {
   "cell_type": "code",
   "execution_count": 3,
   "id": "e386a41a",
   "metadata": {},
   "outputs": [
    {
     "name": "stdout",
     "output_type": "stream",
     "text": [
      "[1, 3, 5, 7, 9]\n"
     ]
    }
   ],
   "source": [
    "original_list = [1, 2, 3, 4, 5, 6, 7, 8, 9, 10]\n",
    "\n",
    "# Create a new list with every second element (1st, 3rd, 5th, 7th, etc.)\n",
    "new_list = original_list[::2]\n",
    "\n",
    "print(new_list)\n"
   ]
  },
  {
   "cell_type": "markdown",
   "id": "3be31018",
   "metadata": {},
   "source": [
    "# Q4. Explain the distinctions between indexing and slicing."
   ]
  },
  {
   "cell_type": "markdown",
   "id": "cc957aed",
   "metadata": {},
   "source": [
    "Below are distinctions between indexing and slicing\n",
    "\n",
    "o Purpose of indexing access a single element at a specific position within the sequence.\n",
    "\n",
    "o Purpose of slicing to extract a portion or subsequence of elements from the orginal sequence.\n",
    "\n",
    "o Syntax of indexing is square brackets [] with a single index inside.\n",
    "\n",
    "o Syntax of slicing is square brackets [] with a range of indices separated by colons inside.\n",
    "\n",
    "o Indexing use a single integer index \n",
    "\n",
    "o Slicing usage two integers to define a range (start and stop)\n",
    "\n",
    "o Indexing return a single value.\n",
    "\n",
    "o Slicing return a new sequence with zero or more elements.\n",
    "\n",
    "o Indexing can use positive and negative indices.\n",
    "\n",
    "o Slicing can include a third paramter to skip elements within the range\n",
    "\n"
   ]
  },
  {
   "cell_type": "markdown",
   "id": "51a08093",
   "metadata": {},
   "source": [
    "# Q5. What happens if one of the slicing expression's indexes is out of range?"
   ]
  },
  {
   "cell_type": "markdown",
   "id": "70f546b6",
   "metadata": {},
   "source": [
    "If one of the slicing expression's indexes is out of range it will not raise an error instead it will gracefully handle the situation by limiting the slice to the valid indices present in the sequence.\n",
    "\n",
    "If the start index is out of range, it is treated as either the first valid index (0) or the last valid index, depending on whether it's too small or too large.\n",
    "If the stop index is out of range, it is treated as either the last valid index or the first valid index, depending on whether it's too small or too large.\n",
    "If both the start and stop indices are out of range, Python creates a slice covering the entire sequence."
   ]
  },
  {
   "cell_type": "markdown",
   "id": "8c5e81cc",
   "metadata": {},
   "source": [
    "# Q6. If you pass a list to a function, and if you want the function to be able to change the values of the list—so that the list is different after the function returns—what action should you avoid?"
   ]
  },
  {
   "cell_type": "markdown",
   "id": "1832f236",
   "metadata": {},
   "source": [
    "To allow a function to change the values of a list passed as an argument and have those changes reflected in the original list after the function returns, you should avoid reassigning the list parameter to a new list inside the function. Instead, directly modify the elements of the original list within the function."
   ]
  },
  {
   "cell_type": "code",
   "execution_count": 6,
   "id": "786edc38",
   "metadata": {},
   "outputs": [
    {
     "name": "stdout",
     "output_type": "stream",
     "text": [
      "[80, 90, 70, 88]\n"
     ]
    }
   ],
   "source": [
    "def modify_list(my_list):\n",
    "    # Modify the original list by appending a new element\n",
    "    my_list.append(88)\n",
    "\n",
    "my_list = [80, 90, 70]\n",
    "modify_list(my_list)\n",
    "print(my_list)"
   ]
  },
  {
   "cell_type": "markdown",
   "id": "9fecdbe3",
   "metadata": {},
   "source": [
    "# Q7. What is the concept of an unbalanced matrix?"
   ]
  },
  {
   "cell_type": "markdown",
   "id": "62d800d4",
   "metadata": {},
   "source": [
    "An unbalanced matrix refers to a matrix where the number of rows and columns is not equal. It's a matrix that doesn't have the same number of rows as columns and therefore it's not a square matrix."
   ]
  },
  {
   "cell_type": "markdown",
   "id": "e0a95ad6",
   "metadata": {},
   "source": [
    "# Q8. Why is it necessary to use either list comprehension or a loop to create arbitrarily large matrices?"
   ]
  },
  {
   "cell_type": "markdown",
   "id": "27eed2e3",
   "metadata": {},
   "source": [
    "Using either list comprehension or a loop to create arbitrarily large matrices in Python is necessary for memory efficiency, scalability, customization, readability, and avoiding code duplication. These methods allow you to generate matrix elements incrementally, adapt to changing requirements, and apply custom logic efficiently.When you create a matrix, especially a large one, it occupies memory to store all its elements.Creating a large matrix in one step without a loop or comprehension can consume a significant amount of memory all at once.Using a loop or comprehension allows you to generate matrix elements incrementally, only consuming memory for one element at a time. You might need to create matrices of varying sizes based on input data or dynamic conditions."
   ]
  },
  {
   "cell_type": "markdown",
   "id": "a04469f9",
   "metadata": {},
   "source": [
    "# Done Regards,Yashwant"
   ]
  }
 ],
 "metadata": {
  "kernelspec": {
   "display_name": "Python 3 (ipykernel)",
   "language": "python",
   "name": "python3"
  },
  "language_info": {
   "codemirror_mode": {
    "name": "ipython",
    "version": 3
   },
   "file_extension": ".py",
   "mimetype": "text/x-python",
   "name": "python",
   "nbconvert_exporter": "python",
   "pygments_lexer": "ipython3",
   "version": "3.9.13"
  }
 },
 "nbformat": 4,
 "nbformat_minor": 5
}
